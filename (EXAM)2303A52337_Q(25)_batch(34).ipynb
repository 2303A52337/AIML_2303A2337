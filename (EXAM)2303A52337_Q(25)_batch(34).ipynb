{
  "nbformat": 4,
  "nbformat_minor": 0,
  "metadata": {
    "colab": {
      "provenance": []
    },
    "kernelspec": {
      "name": "python3",
      "display_name": "Python 3"
    },
    "language_info": {
      "name": "python"
    }
  },
  "cells": [
    {
      "cell_type": "code",
      "execution_count": 1,
      "metadata": {
        "id": "IrL8rb1hmtCp"
      },
      "outputs": [],
      "source": [
        "import pandas as pd\n",
        "from sklearn.cluster import KMeans\n",
        "from sklearn.preprocessing import StandardScaler\n",
        "\n",
        "file_path = '/content/buddymove_holidayiq.csv'\n",
        "data = pd.read_csv(file_path)"
      ]
    },
    {
      "cell_type": "code",
      "source": [
        "attribute_means = data.drop(columns=['User Id']).mean().sort_values(ascending=False)\n",
        "\n",
        "top_5_attributes = attribute_means.head(5)\n",
        "print(\"Top 5 Attributes for South India Destinations:\")\n",
        "print(top_5_attributes)"
      ],
      "metadata": {
        "colab": {
          "base_uri": "https://localhost:8080/",
          "height": 0
        },
        "id": "WELqUmPAoA37",
        "outputId": "a3aad242-90b9-4e35-d168-7a5bc3091270"
      },
      "execution_count": 2,
      "outputs": [
        {
          "output_type": "stream",
          "name": "stdout",
          "text": [
            "Top 5 Attributes for South India Destinations:\n",
            "Nature       124.518072\n",
            "Picnic       120.401606\n",
            "Theatre      116.377510\n",
            "Shopping     112.638554\n",
            "Religious    109.779116\n",
            "dtype: float64\n"
          ]
        }
      ]
    },
    {
      "cell_type": "code",
      "source": [
        "most_liked_attribute = attribute_means.idxmax(), attribute_means.max()\n",
        "print(\"\\nAttribute with Most Liked Travel Spots:\", most_liked_attribute)"
      ],
      "metadata": {
        "colab": {
          "base_uri": "https://localhost:8080/",
          "height": 0
        },
        "id": "svClzFcMoFnq",
        "outputId": "57ad2d35-d392-42b4-e0ba-5d3596b70f83"
      },
      "execution_count": 3,
      "outputs": [
        {
          "output_type": "stream",
          "name": "stdout",
          "text": [
            "\n",
            "Attribute with Most Liked Travel Spots: ('Nature', 124.51807228915662)\n"
          ]
        }
      ]
    },
    {
      "cell_type": "code",
      "source": [
        "max_attribute = attribute_means.idxmax(), attribute_means.max()\n",
        "min_attribute = attribute_means.idxmin(), attribute_means.min()\n",
        "\n",
        "print(\"\\nMaximum Attribute of Choice:\", max_attribute)\n",
        "print(\"Minimum Attribute of Choice:\", min_attribute)"
      ],
      "metadata": {
        "colab": {
          "base_uri": "https://localhost:8080/",
          "height": 0
        },
        "id": "dekJBHqToJDu",
        "outputId": "f5c50fe3-9c2d-4122-81f7-e54a2e15d99d"
      },
      "execution_count": 4,
      "outputs": [
        {
          "output_type": "stream",
          "name": "stdout",
          "text": [
            "\n",
            "Maximum Attribute of Choice: ('Nature', 124.51807228915662)\n",
            "Minimum Attribute of Choice: ('Sports', 11.987951807228916)\n"
          ]
        }
      ]
    },
    {
      "cell_type": "code",
      "source": [
        "role_analysis = data[['Nature', 'Picnic', 'Theatre', 'Shopping']].mean()\n",
        "\n",
        "print(\"\\nRole Analysis for Beaches, Theatres, Malls, and Parks:\")\n",
        "print(role_analysis)"
      ],
      "metadata": {
        "colab": {
          "base_uri": "https://localhost:8080/",
          "height": 0
        },
        "id": "lSh1yjaDoLT6",
        "outputId": "12d688aa-00db-4ab0-cdd9-8352c841cb77"
      },
      "execution_count": 5,
      "outputs": [
        {
          "output_type": "stream",
          "name": "stdout",
          "text": [
            "\n",
            "Role Analysis for Beaches, Theatres, Malls, and Parks:\n",
            "Nature      124.518072\n",
            "Picnic      120.401606\n",
            "Theatre     116.377510\n",
            "Shopping    112.638554\n",
            "dtype: float64\n"
          ]
        }
      ]
    },
    {
      "cell_type": "code",
      "source": [
        "sports_attribute_mean = data['Sports'].mean()\n",
        "print(\"\\nSports Attribute Mean Rating:\", sports_attribute_mean)"
      ],
      "metadata": {
        "colab": {
          "base_uri": "https://localhost:8080/",
          "height": 0
        },
        "id": "0hhnbu1foOcy",
        "outputId": "bbcee2fe-c9e0-41bf-affc-285e0ad1d1ff"
      },
      "execution_count": 6,
      "outputs": [
        {
          "output_type": "stream",
          "name": "stdout",
          "text": [
            "\n",
            "Sports Attribute Mean Rating: 11.987951807228916\n"
          ]
        }
      ]
    },
    {
      "cell_type": "code",
      "source": [
        "kmeans = KMeans(n_clusters=3, random_state=42)\n",
        "clusters = kmeans.fit_predict(X_scaled)"
      ],
      "metadata": {
        "id": "sL9UEXRNoVYc"
      },
      "execution_count": 10,
      "outputs": []
    },
    {
      "cell_type": "code",
      "source": [
        "X = data.drop(columns=['User Id'])\n",
        "scaler = StandardScaler()\n",
        "X_scaled = scaler.fit_transform(X)"
      ],
      "metadata": {
        "id": "-kLIhRhCoYyC"
      },
      "execution_count": 8,
      "outputs": []
    },
    {
      "cell_type": "code",
      "source": [
        "kmeans = KMeans(n_clusters=3, random_state=42)\n",
        "clusters = kmeans.fit_predict(X_scaled)\n",
        "\n",
        "data['Cluster'] = clusters\n",
        "\n",
        "print(\"\\nCluster Distribution:\")\n",
        "print(data['Cluster'].value_counts())"
      ],
      "metadata": {
        "colab": {
          "base_uri": "https://localhost:8080/",
          "height": 0
        },
        "id": "yPdE6MTxpeYt",
        "outputId": "4a2097b1-6568-4963-807b-0c46a4ec9d8c"
      },
      "execution_count": 9,
      "outputs": [
        {
          "output_type": "stream",
          "name": "stdout",
          "text": [
            "\n",
            "Cluster Distribution:\n",
            "Cluster\n",
            "2    114\n",
            "0     79\n",
            "1     56\n",
            "Name: count, dtype: int64\n"
          ]
        }
      ]
    }
  ]
}